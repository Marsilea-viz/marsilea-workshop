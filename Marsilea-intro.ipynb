{
 "cells": [
  {
   "cell_type": "markdown",
   "metadata": {
    "colab_type": "text",
    "id": "view-in-github"
   },
   "source": [
    "<a href=\"https://colab.research.google.com/github/Marsilea-viz/marsilea-workshop/blob/main/Marsilea-intro.ipynb\" target=\"_parent\"><img src=\"https://colab.research.google.com/assets/colab-badge.svg\" alt=\"Open In Colab\"/></a>"
   ]
  },
  {
   "cell_type": "code",
   "execution_count": null,
   "metadata": {
    "id": "_Vq5PRc69gQu"
   },
   "outputs": [],
   "source": [
    "!pip install marsilea"
   ]
  },
  {
   "cell_type": "markdown",
   "metadata": {
    "id": "mXhucbVBP7uA"
   },
   "source": [
    "# Import Marsilea\n",
    "\n",
    "The convention for importing Marsilea is\n",
    "- `marsilea` -> `ma`\n",
    "- `marsilea.plotter` -> `mp`"
   ]
  },
  {
   "cell_type": "code",
   "execution_count": null,
   "metadata": {
    "id": "osMKWv3K9x7T"
   },
   "outputs": [],
   "source": [
    "import numpy as np\n",
    "\n",
    "import marsilea as ma\n",
    "import marsilea.plotter as mp"
   ]
  },
  {
   "cell_type": "markdown",
   "metadata": {},
   "source": [
    "# A bit of motivation"
   ]
  },
  {
   "cell_type": "markdown",
   "metadata": {},
   "source": [
    "How to visualize such image in Matplotlib\n",
    "\n",
    "<img src=\"https://raw.githubusercontent.com/Marsilea-viz/marsilea-workshop/main/asset/heatmap_with_bar.png\" width=\"300px\">"
   ]
  },
  {
   "cell_type": "code",
   "execution_count": null,
   "metadata": {},
   "outputs": [],
   "source": [
    "import matplotlib.pyplot as plt"
   ]
  },
  {
   "cell_type": "code",
   "execution_count": null,
   "metadata": {},
   "outputs": [],
   "source": [
    "# Your code here"
   ]
  },
  {
   "cell_type": "markdown",
   "metadata": {},
   "source": [
    "# Now Let's do it with Marsilea"
   ]
  },
  {
   "cell_type": "code",
   "execution_count": null,
   "metadata": {},
   "outputs": [],
   "source": [
    "# Marsilea implementation here"
   ]
  },
  {
   "cell_type": "markdown",
   "metadata": {
    "id": "viBJjwe7iC3w"
   },
   "source": [
    "# Step 0: Prepare some random data"
   ]
  },
  {
   "cell_type": "code",
   "execution_count": null,
   "metadata": {
    "id": "IzWy9EbUiA3D"
   },
   "outputs": [],
   "source": [
    "mat = np.random.randn(10, 15)"
   ]
  },
  {
   "cell_type": "markdown",
   "metadata": {
    "id": "mnOG8Zr5-FTW"
   },
   "source": [
    "# Step1: Initiate a canvas\n",
    "\n",
    "## What to learn?\n",
    "\n",
    "<img src=\"https://raw.githubusercontent.com/Marsilea-viz/marsilea-workshop/main/asset/API-Canvas.png\" width=\"300px\">\n",
    "\n",
    "There are different canvas in Marsilea, from preset canvas like `Heatmap` and `Layers` to empty canvas like `WhiteBoard` or `ClusterBoard`.\n",
    "\n",
    "You can adjust the size of the main canvas by setting `width` and `height`.\n",
    "\n",
    "---\n",
    "\n",
    "## Tryout\n",
    "\n",
    "- Adjust the `width` to 3 and see what happen?\n"
   ]
  },
  {
   "cell_type": "code",
   "execution_count": null,
   "metadata": {
    "colab": {
     "base_uri": "https://localhost:8080/",
     "height": 237
    },
    "id": "5N6zv5Ua-DvU",
    "outputId": "f5e202b3-8b87-4677-edf1-0cd2f7ecb825"
   },
   "outputs": [],
   "source": [
    "h = ma.Heatmap(mat, width=2, height=2)\n",
    "h.render()"
   ]
  },
  {
   "cell_type": "markdown",
   "metadata": {
    "id": "jka7jtWWj-IL"
   },
   "source": [
    "# Step 2: Add one more plot\n",
    "\n",
    "## What to learn?\n",
    "\n",
    "<img src=\"https://raw.githubusercontent.com/Marsilea-viz/marsilea-workshop/main/asset/API-Add-Plotter.png\" width=\"500px\">\n",
    "\n",
    "Adding plots to a canvas is very straight forward, you can called `add_*` method and add the plotter, adjust the `size` and `pad` to control the layout.\n",
    "\n",
    "Almost every plotter can accept a `label` paramter, it can be used to add a text label for the plotter.\n",
    "\n",
    "---\n",
    "\n",
    "## Tryout\n",
    "\n",
    "- Add another plotter like `Bar` or `Violine` and see the difference.\n",
    "- Adjust `size` and `pad` and see how the changes in plotter."
   ]
  },
  {
   "cell_type": "code",
   "execution_count": null,
   "metadata": {
    "colab": {
     "base_uri": "https://localhost:8080/",
     "height": 280
    },
    "id": "LYvQ6XgAiYkp",
    "outputId": "8d707ae4-efae-4b9f-f98f-b2931a2e252c"
   },
   "outputs": [],
   "source": [
    "h = ma.Heatmap(mat, width=3, height=2)\n",
    "h.add_right(mp.Numbers(np.arange(10) + 1, label=\"Number\"), size=0.5, pad=0.1)\n",
    "h.render()"
   ]
  },
  {
   "cell_type": "markdown",
   "metadata": {
    "id": "oKqYoPkoCCQL"
   },
   "source": [
    "# Step 3: Split the canvas\n",
    "\n",
    "The canvas can be split or group by the labels on x or y-axis.\n",
    "\n",
    "- Split by index: `cut_rows` or `cut_cols`\n",
    "- Group by labels: `group_rows` or `group_cols`\n",
    "\n"
   ]
  },
  {
   "cell_type": "markdown",
   "metadata": {
    "id": "nwlIA4zVEKvx"
   },
   "source": [
    "### Split with `cut_rows`\n",
    "\n",
    "<img src=\"https://raw.githubusercontent.com/Marsilea-viz/marsilea-workshop/main/asset/API-cut-rows.png\" width=\"300px\">\n",
    "\n",
    "---\n",
    "\n",
    "## Tryout\n",
    "\n",
    "- Try to split on index 4 and 8\n",
    "- Try to split by columns\n"
   ]
  },
  {
   "cell_type": "code",
   "execution_count": null,
   "metadata": {
    "colab": {
     "base_uri": "https://localhost:8080/",
     "height": 260
    },
    "id": "f-KZxac9_8FO",
    "outputId": "35974a37-59a1-497e-e32f-8b4750d8cba9"
   },
   "outputs": [],
   "source": [
    "h = ma.Heatmap(mat, width=3, height=2)\n",
    "h.add_right(mp.Numbers(np.arange(10) + 1), size=0.5, pad=0.1)\n",
    "h.cut_rows([4])\n",
    "h.render()"
   ]
  },
  {
   "cell_type": "markdown",
   "metadata": {
    "id": "O3HKiDD_EcTe"
   },
   "source": [
    "### Group by `group_rows`\n",
    "\n",
    "<img src=\"https://raw.githubusercontent.com/Marsilea-viz/marsilea-workshop/main/asset/API-group-rows.png\" width=\"450px\">\n",
    "\n",
    "To help you understand the process, another plotter `Labels` is added on the left to label the rows. It's a plotter used to display text.\n",
    "\n",
    "---\n",
    "\n",
    "## Tryout\n",
    "- Try to change the order of labels\n"
   ]
  },
  {
   "cell_type": "code",
   "execution_count": null,
   "metadata": {
    "colab": {
     "base_uri": "https://localhost:8080/",
     "height": 260
    },
    "id": "cCQF9BNfDDiY",
    "outputId": "962dcac1-b933-4bb9-9c6e-92cc04ecbf6b"
   },
   "outputs": [],
   "source": [
    "labels = [\"a\", \"b\", \"c\", \"a\", \"b\", \"c\", \"a\", \"b\", \"c\", \"a\"]\n",
    "\n",
    "h = ma.Heatmap(mat, width=3, height=2)\n",
    "h.add_right(mp.Numbers(np.arange(10) + 1), size=0.5, pad=0.1)\n",
    "h.add_left(mp.Labels(labels))\n",
    "h.group_rows(labels, order=[\"b\", \"c\", \"a\"])\n",
    "h.render()"
   ]
  },
  {
   "cell_type": "markdown",
   "metadata": {
    "id": "Ighhu3NwEw3B"
   },
   "source": [
    "### Label the groups\n",
    "\n",
    "There is a special plotter `Chunk` that can use to label a chunk of canvas."
   ]
  },
  {
   "cell_type": "code",
   "execution_count": null,
   "metadata": {
    "colab": {
     "base_uri": "https://localhost:8080/",
     "height": 260
    },
    "id": "L1QkDzQuE6AK",
    "outputId": "b812e318-2218-4dad-82a1-85673bc1296b"
   },
   "outputs": [],
   "source": [
    "h = ma.Heatmap(mat, width=3, height=2)\n",
    "h.add_right(mp.Numbers(np.arange(10) + 1), size=0.5, pad=0.1)\n",
    "h.add_left(mp.Chunk([\"b\", \"c\", \"a\"], \"#EEE\"), pad=0.1)\n",
    "h.group_rows(labels, order=[\"b\", \"c\", \"a\"])\n",
    "h.render()"
   ]
  },
  {
   "cell_type": "markdown",
   "metadata": {
    "id": "KqaqKrYqGsRX"
   },
   "source": [
    "# Step 4: Cluster data and add dendrogram\n",
    "\n",
    "<img src=\"https://raw.githubusercontent.com/Marsilea-viz/marsilea-workshop/main/asset/API-add-dendrogram.png\" width=\"500px\">\n",
    "\n",
    "One thing to notice is that when the canvas is split, clustering happens in both within a chunk and between chunks.\n",
    "\n",
    "---\n",
    "\n",
    "## Tryout\n",
    "\n",
    "- Cluster on the top side?\n",
    "- Cluster the data but set `show=False` to see what will happen?\n",
    "- Cluster only within a chunk using `add_base=True` and `add_meta=False`\n",
    "- Cluster only between chunks using `add_base=False` and `add_meta=True`"
   ]
  },
  {
   "cell_type": "code",
   "execution_count": null,
   "metadata": {
    "colab": {
     "base_uri": "https://localhost:8080/",
     "height": 260
    },
    "id": "UE1FlWbCGUTF",
    "outputId": "38cbfe3c-314a-48c8-9535-901bfa34c14e"
   },
   "outputs": [],
   "source": [
    "h = ma.Heatmap(mat, width=3, height=2)\n",
    "h.add_right(mp.Numbers(np.arange(10) + 1), size=0.5, pad=0.1)\n",
    "h.add_left(mp.Chunk([\"b\", \"c\", \"a\"], \"#EEE\"), pad=0.1)\n",
    "h.group_rows(labels, order=[\"b\", \"c\", \"a\"])\n",
    "h.add_dendrogram(\"left\")\n",
    "h.render()"
   ]
  },
  {
   "cell_type": "markdown",
   "metadata": {
    "id": "W8sRNMyNLEky"
   },
   "source": [
    "# Step 5: Add legends\n",
    "\n",
    "The legend can be configured in each plotter, notice that here, we can simply configurate the title of colorbar by passing `label` to the `Heatmap`."
   ]
  },
  {
   "cell_type": "code",
   "execution_count": null,
   "metadata": {
    "colab": {
     "base_uri": "https://localhost:8080/",
     "height": 267
    },
    "id": "l5AdWVzxHGEu",
    "outputId": "0dc9426b-02ee-49c4-8c15-054e13fb3ad4"
   },
   "outputs": [],
   "source": [
    "h = ma.Heatmap(mat, width=3, height=2, label=\"Heatmap\")\n",
    "h.add_right(mp.Numbers(np.arange(10) + 1), size=0.5, pad=0.1)\n",
    "h.add_left(mp.Chunk([\"b\", \"c\", \"a\"], \"#EEE\"), pad=0.1)\n",
    "h.group_rows(labels, order=[\"b\", \"c\", \"a\"])\n",
    "h.add_dendrogram(\"left\")\n",
    "h.add_legends()\n",
    "h.render()"
   ]
  },
  {
   "cell_type": "markdown",
   "metadata": {},
   "source": [
    "# Step 6: Save for publication"
   ]
  },
  {
   "cell_type": "markdown",
   "metadata": {},
   "source": [
    "## Option 1:\n",
    "Use the `.save` method"
   ]
  },
  {
   "cell_type": "code",
   "execution_count": null,
   "metadata": {},
   "outputs": [],
   "source": [
    "h.save(\"intro.pdf\")"
   ]
  },
  {
   "cell_type": "markdown",
   "metadata": {},
   "source": [
    "## Option 2:\n",
    "Exactly as how you save figures in matplotlib\n",
    "> `bbox_inches=\"tight\"` can avoid clipping of legends"
   ]
  },
  {
   "cell_type": "code",
   "execution_count": null,
   "metadata": {},
   "outputs": [],
   "source": [
    "h.figure.savefig(\"intro.pdf\", bbox_inches=\"tight\")"
   ]
  },
  {
   "cell_type": "markdown",
   "metadata": {},
   "source": [
    "# How about two cross-layout?\n",
    "\n",
    "1. Can you try to add more elements to `h1` and `h2`.\n",
    "2. Try to concatenate `h1` and `h2` horizontally or vertically. (Tips: `h1 + h2`, `h1 / h2`)\n",
    "3. Try to add empty space between cross-layout. (Tips: `h1 + 1 + h2`, `h1 / 1 / h2`)"
   ]
  },
  {
   "cell_type": "code",
   "execution_count": null,
   "metadata": {},
   "outputs": [],
   "source": [
    "h1 = ma.Heatmap(mat, cmap=\"Reds\")\n",
    "h2 = ma.Heatmap(np.random.randn(10, 10), cmap=\"Blues\")"
   ]
  }
 ],
 "metadata": {
  "colab": {
   "authorship_tag": "ABX9TyMLANLF/MASPXQBBI6+yfXu",
   "include_colab_link": true,
   "provenance": []
  },
  "kernelspec": {
   "display_name": "Python 3 (ipykernel)",
   "language": "python",
   "name": "python3"
  },
  "language_info": {
   "codemirror_mode": {
    "name": "ipython",
    "version": 3
   },
   "file_extension": ".py",
   "mimetype": "text/x-python",
   "name": "python",
   "nbconvert_exporter": "python",
   "pygments_lexer": "ipython3",
   "version": "3.10.0"
  }
 },
 "nbformat": 4,
 "nbformat_minor": 4
}
