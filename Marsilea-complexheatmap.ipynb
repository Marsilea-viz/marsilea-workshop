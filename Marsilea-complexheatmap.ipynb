{
 "cells": [
  {
   "cell_type": "markdown",
   "id": "34b9533b-7e53-41cb-a051-8c0af378a067",
   "metadata": {},
   "source": [
    "<a href=\"https://colab.research.google.com/github/Marsilea-viz/marsilea-workshop/blob/main/Marsilea-complexheatmap.ipynb\" target=\"_parent\"><img src=\"https://colab.research.google.com/assets/colab-badge.svg\" alt=\"Open In Colab\"/></a>"
   ]
  },
  {
   "cell_type": "markdown",
   "id": "c7aaff69-7263-402a-9f7f-6ec1bc428769",
   "metadata": {},
   "source": [
    "<img src=\"https://github.com/Marsilea-viz/marsilea/blob/main/img/logo.png?raw=true\" width=\"50px\">\n",
    "\n",
    "Install marsilea"
   ]
  },
  {
   "cell_type": "code",
   "execution_count": null,
   "id": "7e2b8a88-228a-42fd-a619-067fa428b658",
   "metadata": {},
   "outputs": [],
   "source": [
    "!pip install marsilea"
   ]
  },
  {
   "cell_type": "markdown",
   "id": "5aaefc53-ac92-45a6-9879-0b5dfcb823d2",
   "metadata": {},
   "source": [
    "*[Optional] You may run the following cell to make the visualization looks better*"
   ]
  },
  {
   "cell_type": "code",
   "execution_count": null,
   "id": "3c170187-3485-4f27-95f9-d5ce66455519",
   "metadata": {},
   "outputs": [],
   "source": [
    "%config InlineBackend.figure_format = 'retina'\n",
    "!pip install mpl_fontkit\n",
    "import mpl_fontkit as fk\n",
    "\n",
    "fk.install(\"Lato\", verbose=False)"
   ]
  },
  {
   "cell_type": "markdown",
   "id": "d0a4c844-10cc-4d2d-ac93-bc1025184525",
   "metadata": {},
   "source": [
    "# Task 1: Visualization of single-cell expression matrix with complex heatmap\n",
    "\n",
    "The final visualization should look like:\n",
    "\n",
    "<img src=\"https://marsilea.readthedocs.io/en/stable/_images/sphx_glr_plot_pbmc3k_001_2_00x.png\" width=\"500px\">"
   ]
  },
  {
   "cell_type": "markdown",
   "id": "351ba8e7-6f09-437a-b6e6-69e8ddb49e5f",
   "metadata": {},
   "source": [
    "# Import essential pacakges and load data"
   ]
  },
  {
   "cell_type": "code",
   "execution_count": null,
   "id": "e6d3cde9-2846-4bc4-9997-fad2c12bb05c",
   "metadata": {},
   "outputs": [],
   "source": [
    "from sklearn.preprocessing import normalize\n",
    "from matplotlib.colors import Normalize\n",
    "\n",
    "import marsilea as ma\n",
    "import marsilea.plotter as mp\n",
    "\n",
    "pbmc3k = ma.load_data(\"pbmc3k\")\n",
    "exp = pbmc3k[\"exp\"]\n",
    "pct_cells = pbmc3k[\"pct_cells\"]\n",
    "count = pbmc3k[\"count\"]\n",
    "\n",
    "matrix = normalize(exp.to_numpy(), axis=0)\n",
    "\n",
    "cell_cat = [\n",
    "    \"Lymphoid\",\n",
    "    \"Myeloid\",\n",
    "    \"Lymphoid\",\n",
    "    \"Lymphoid\",\n",
    "    \"Lymphoid\",\n",
    "    \"Myeloid\",\n",
    "    \"Myeloid\",\n",
    "    \"Myeloid\",\n",
    "]\n",
    "cell_names = [\n",
    "    \"CD4 T\",\n",
    "    \"CD14\\nMonocytes\",\n",
    "    \"B\",\n",
    "    \"CD8 T\",\n",
    "    \"NK\",\n",
    "    \"FCGR3A\\nMonocytes\",\n",
    "    \"Dendritic\",\n",
    "    \"Megakaryocytes\",\n",
    "]"
   ]
  },
  {
   "cell_type": "markdown",
   "id": "b8354655-6765-4233-87c0-aeb96ef3860e",
   "metadata": {},
   "source": [
    "We’ll start by creating a `Heatmap` canvas.\n",
    "\n",
    "`SizedMesh` can help us visualize the proportion of cells with the size of a circle. \n",
    "\n",
    "To highlight genes with high expression, we can use `MarkerMesh` to add a star marker on top of those circles."
   ]
  },
  {
   "cell_type": "code",
   "execution_count": null,
   "id": "dedfb364-a0ec-4ca5-937d-393806510a97",
   "metadata": {},
   "outputs": [],
   "source": [
    "# Your code here"
   ]
  },
  {
   "cell_type": "markdown",
   "id": "96ba937d-95f5-4ec2-9756-566bf84e9a72",
   "metadata": {},
   "source": [
    "Now we add the two plotters to the main canvas with `add_layer`."
   ]
  },
  {
   "cell_type": "code",
   "execution_count": null,
   "id": "87cf68d5-9b79-4f8d-bdff-47eef8d294cf",
   "metadata": {},
   "outputs": [],
   "source": [
    "# Your code here"
   ]
  },
  {
   "cell_type": "markdown",
   "id": "22b97afa-e1fa-4805-abc8-76a762a66eb4",
   "metadata": {},
   "source": [
    "Next, let's add some useful components to enhance our heatmap.\n",
    "\n",
    "- Text labels for cell types and genes.\n",
    "- Number of cells in bar plot.\n",
    "- Epression distribution as violin plot."
   ]
  },
  {
   "cell_type": "code",
   "execution_count": null,
   "id": "7635affd-b06e-4b4b-b35f-fd35df04657f",
   "metadata": {},
   "outputs": [],
   "source": [
    "# Your code here"
   ]
  },
  {
   "cell_type": "markdown",
   "id": "c4e1bdda-b47a-435f-8200-383b4770599d",
   "metadata": {},
   "source": [
    "Now let's group the heatmap based on the cell types"
   ]
  },
  {
   "cell_type": "code",
   "execution_count": null,
   "id": "58201c05-012c-4465-b14f-1cffe7d5a6ef",
   "metadata": {},
   "outputs": [],
   "source": [
    "# Your code here"
   ]
  },
  {
   "cell_type": "markdown",
   "id": "c8c5a101-0e95-4dbc-8188-c8b11b4a74a2",
   "metadata": {},
   "source": [
    "Now let's just add the remaining components, like the dendrogram and legends"
   ]
  },
  {
   "cell_type": "code",
   "execution_count": null,
   "id": "03b6dc25-cd92-4249-84a3-6e742c2af050",
   "metadata": {},
   "outputs": [],
   "source": [
    "# Your code here"
   ]
  }
 ],
 "metadata": {
  "kernelspec": {
   "display_name": "Python 3 (ipykernel)",
   "language": "python",
   "name": "python3"
  },
  "language_info": {
   "codemirror_mode": {
    "name": "ipython",
    "version": 3
   },
   "file_extension": ".py",
   "mimetype": "text/x-python",
   "name": "python",
   "nbconvert_exporter": "python",
   "pygments_lexer": "ipython3",
   "version": "3.10.0"
  }
 },
 "nbformat": 4,
 "nbformat_minor": 5
}
