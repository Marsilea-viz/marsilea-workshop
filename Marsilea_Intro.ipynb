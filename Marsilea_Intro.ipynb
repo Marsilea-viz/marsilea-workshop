{
  "nbformat": 4,
  "nbformat_minor": 0,
  "metadata": {
    "colab": {
      "provenance": [],
      "authorship_tag": "ABX9TyMlmGcGjT3CDQlAGd1RL0G0",
      "include_colab_link": true
    },
    "kernelspec": {
      "name": "python3",
      "display_name": "Python 3"
    },
    "language_info": {
      "name": "python"
    }
  },
  "cells": [
    {
      "cell_type": "markdown",
      "metadata": {
        "id": "view-in-github",
        "colab_type": "text"
      },
      "source": [
        "<a href=\"https://colab.research.google.com/github/Marsilea-viz/marsilea-workshop/blob/main/Marsilea_Intro.ipynb\" target=\"_parent\"><img src=\"https://colab.research.google.com/assets/colab-badge.svg\" alt=\"Open In Colab\"/></a>"
      ]
    },
    {
      "cell_type": "code",
      "execution_count": 1,
      "metadata": {
        "colab": {
          "base_uri": "https://localhost:8080/"
        },
        "collapsed": true,
        "id": "_Vq5PRc69gQu",
        "outputId": "e5f4f6ee-cf76-4856-ab6a-2c99d37529de"
      },
      "outputs": [
        {
          "output_type": "stream",
          "name": "stdout",
          "text": [
            "Collecting marsilea\n",
            "  Downloading marsilea-0.4.4-py3-none-any.whl.metadata (6.6 kB)\n",
            "Collecting mpl_fontkit\n",
            "  Downloading mpl_fontkit-0.5.1-py3-none-any.whl.metadata (3.2 kB)\n",
            "Collecting legendkit (from marsilea)\n",
            "  Downloading legendkit-0.3.4-py3-none-any.whl.metadata (1.8 kB)\n",
            "Requirement already satisfied: matplotlib>=3.6 in /usr/local/lib/python3.10/dist-packages (from marsilea) (3.7.1)\n",
            "Requirement already satisfied: numpy in /usr/local/lib/python3.10/dist-packages (from marsilea) (1.26.4)\n",
            "Requirement already satisfied: pandas in /usr/local/lib/python3.10/dist-packages (from marsilea) (2.1.4)\n",
            "Requirement already satisfied: platformdirs in /usr/local/lib/python3.10/dist-packages (from marsilea) (4.2.2)\n",
            "Requirement already satisfied: scipy in /usr/local/lib/python3.10/dist-packages (from marsilea) (1.13.1)\n",
            "Requirement already satisfied: seaborn in /usr/local/lib/python3.10/dist-packages (from marsilea) (0.13.1)\n",
            "Collecting httpx (from mpl_fontkit)\n",
            "  Downloading httpx-0.27.0-py3-none-any.whl.metadata (7.2 kB)\n",
            "Collecting thefuzz (from mpl_fontkit)\n",
            "  Downloading thefuzz-0.22.1-py3-none-any.whl.metadata (3.9 kB)\n",
            "Requirement already satisfied: contourpy>=1.0.1 in /usr/local/lib/python3.10/dist-packages (from matplotlib>=3.6->marsilea) (1.2.1)\n",
            "Requirement already satisfied: cycler>=0.10 in /usr/local/lib/python3.10/dist-packages (from matplotlib>=3.6->marsilea) (0.12.1)\n",
            "Requirement already satisfied: fonttools>=4.22.0 in /usr/local/lib/python3.10/dist-packages (from matplotlib>=3.6->marsilea) (4.53.1)\n",
            "Requirement already satisfied: kiwisolver>=1.0.1 in /usr/local/lib/python3.10/dist-packages (from matplotlib>=3.6->marsilea) (1.4.5)\n",
            "Requirement already satisfied: packaging>=20.0 in /usr/local/lib/python3.10/dist-packages (from matplotlib>=3.6->marsilea) (24.1)\n",
            "Requirement already satisfied: pillow>=6.2.0 in /usr/local/lib/python3.10/dist-packages (from matplotlib>=3.6->marsilea) (9.4.0)\n",
            "Requirement already satisfied: pyparsing>=2.3.1 in /usr/local/lib/python3.10/dist-packages (from matplotlib>=3.6->marsilea) (3.1.2)\n",
            "Requirement already satisfied: python-dateutil>=2.7 in /usr/local/lib/python3.10/dist-packages (from matplotlib>=3.6->marsilea) (2.8.2)\n",
            "Requirement already satisfied: anyio in /usr/local/lib/python3.10/dist-packages (from httpx->mpl_fontkit) (3.7.1)\n",
            "Requirement already satisfied: certifi in /usr/local/lib/python3.10/dist-packages (from httpx->mpl_fontkit) (2024.7.4)\n",
            "Collecting httpcore==1.* (from httpx->mpl_fontkit)\n",
            "  Downloading httpcore-1.0.5-py3-none-any.whl.metadata (20 kB)\n",
            "Requirement already satisfied: idna in /usr/local/lib/python3.10/dist-packages (from httpx->mpl_fontkit) (3.7)\n",
            "Requirement already satisfied: sniffio in /usr/local/lib/python3.10/dist-packages (from httpx->mpl_fontkit) (1.3.1)\n",
            "Collecting h11<0.15,>=0.13 (from httpcore==1.*->httpx->mpl_fontkit)\n",
            "  Downloading h11-0.14.0-py3-none-any.whl.metadata (8.2 kB)\n",
            "Requirement already satisfied: pytz>=2020.1 in /usr/local/lib/python3.10/dist-packages (from pandas->marsilea) (2024.1)\n",
            "Requirement already satisfied: tzdata>=2022.1 in /usr/local/lib/python3.10/dist-packages (from pandas->marsilea) (2024.1)\n",
            "Collecting rapidfuzz<4.0.0,>=3.0.0 (from thefuzz->mpl_fontkit)\n",
            "  Downloading rapidfuzz-3.9.6-cp310-cp310-manylinux_2_17_x86_64.manylinux2014_x86_64.whl.metadata (12 kB)\n",
            "Requirement already satisfied: six>=1.5 in /usr/local/lib/python3.10/dist-packages (from python-dateutil>=2.7->matplotlib>=3.6->marsilea) (1.16.0)\n",
            "Requirement already satisfied: exceptiongroup in /usr/local/lib/python3.10/dist-packages (from anyio->httpx->mpl_fontkit) (1.2.2)\n",
            "Downloading marsilea-0.4.4-py3-none-any.whl (80 kB)\n",
            "\u001b[2K   \u001b[90m━━━━━━━━━━━━━━━━━━━━━━━━━━━━━━━━━━━━━━━━\u001b[0m \u001b[32m80.5/80.5 kB\u001b[0m \u001b[31m5.4 MB/s\u001b[0m eta \u001b[36m0:00:00\u001b[0m\n",
            "\u001b[?25hDownloading mpl_fontkit-0.5.1-py3-none-any.whl (5.5 kB)\n",
            "Downloading httpx-0.27.0-py3-none-any.whl (75 kB)\n",
            "\u001b[2K   \u001b[90m━━━━━━━━━━━━━━━━━━━━━━━━━━━━━━━━━━━━━━━━\u001b[0m \u001b[32m75.6/75.6 kB\u001b[0m \u001b[31m5.4 MB/s\u001b[0m eta \u001b[36m0:00:00\u001b[0m\n",
            "\u001b[?25hDownloading httpcore-1.0.5-py3-none-any.whl (77 kB)\n",
            "\u001b[2K   \u001b[90m━━━━━━━━━━━━━━━━━━━━━━━━━━━━━━━━━━━━━━━━\u001b[0m \u001b[32m77.9/77.9 kB\u001b[0m \u001b[31m5.4 MB/s\u001b[0m eta \u001b[36m0:00:00\u001b[0m\n",
            "\u001b[?25hDownloading legendkit-0.3.4-py3-none-any.whl (21 kB)\n",
            "Downloading thefuzz-0.22.1-py3-none-any.whl (8.2 kB)\n",
            "Downloading rapidfuzz-3.9.6-cp310-cp310-manylinux_2_17_x86_64.manylinux2014_x86_64.whl (3.4 MB)\n",
            "\u001b[2K   \u001b[90m━━━━━━━━━━━━━━━━━━━━━━━━━━━━━━━━━━━━━━━━\u001b[0m \u001b[32m3.4/3.4 MB\u001b[0m \u001b[31m36.6 MB/s\u001b[0m eta \u001b[36m0:00:00\u001b[0m\n",
            "\u001b[?25hDownloading h11-0.14.0-py3-none-any.whl (58 kB)\n",
            "\u001b[2K   \u001b[90m━━━━━━━━━━━━━━━━━━━━━━━━━━━━━━━━━━━━━━━━\u001b[0m \u001b[32m58.3/58.3 kB\u001b[0m \u001b[31m3.4 MB/s\u001b[0m eta \u001b[36m0:00:00\u001b[0m\n",
            "\u001b[?25hInstalling collected packages: rapidfuzz, h11, thefuzz, httpcore, legendkit, httpx, mpl_fontkit, marsilea\n",
            "Successfully installed h11-0.14.0 httpcore-1.0.5 httpx-0.27.0 legendkit-0.3.4 marsilea-0.4.4 mpl_fontkit-0.5.1 rapidfuzz-3.9.6 thefuzz-0.22.1\n"
          ]
        }
      ],
      "source": [
        "!pip install marsilea mpl_fontkit"
      ]
    },
    {
      "cell_type": "markdown",
      "source": [
        "# Import Marsilea\n",
        "\n",
        "The convention for importing Marsilea is\n",
        "- `marsilea` -> `ma`\n",
        "- `marsilea.plotter` -> `mp`"
      ],
      "metadata": {
        "id": "mXhucbVBP7uA"
      }
    },
    {
      "cell_type": "code",
      "source": [
        "import numpy as np\n",
        "\n",
        "import marsilea as ma\n",
        "import marsilea.plotter as mp"
      ],
      "metadata": {
        "id": "osMKWv3K9x7T"
      },
      "execution_count": 2,
      "outputs": []
    },
    {
      "cell_type": "markdown",
      "source": [
        "# Step 0: Prepare some random data"
      ],
      "metadata": {
        "id": "viBJjwe7iC3w"
      }
    },
    {
      "cell_type": "code",
      "source": [
        "mat = np.random.randn(10, 15)"
      ],
      "metadata": {
        "id": "IzWy9EbUiA3D"
      },
      "execution_count": 11,
      "outputs": []
    },
    {
      "cell_type": "markdown",
      "source": [
        "# Step1: Initiate a canvas\n",
        "\n",
        "## What to learn?\n",
        "\n",
        "<img src=\"https://raw.githubusercontent.com/Marsilea-viz/marsilea-workshop/main/asset/API-Canvas.png\" width=\"300px\">\n",
        "\n",
        "There are different canvas in Marsilea, from preset canvas like `Heatmap` and `Layers` to empty canvas like `WhiteBoard` or `ClusterBoard`.\n",
        "\n",
        "You can adjust the size of the main canvas by setting `width` and `height`.\n",
        "\n",
        "---\n",
        "\n",
        "## Tryout\n",
        "\n",
        "- Adjust the `width` to 3 and see what happen?\n"
      ],
      "metadata": {
        "id": "mnOG8Zr5-FTW"
      }
    },
    {
      "cell_type": "code",
      "source": [],
      "metadata": {
        "id": "McA2IEPfPVLR"
      },
      "execution_count": null,
      "outputs": []
    },
    {
      "cell_type": "code",
      "source": [
        "h = ma.Heatmap(mat, width=2, height=2)\n",
        "h.render()"
      ],
      "metadata": {
        "id": "5N6zv5Ua-DvU",
        "colab": {
          "base_uri": "https://localhost:8080/",
          "height": 237
        },
        "outputId": "b0a476f2-58ae-4ebf-997b-d7d5dcee6597"
      },
      "execution_count": 13,
      "outputs": [
        {
          "output_type": "display_data",
          "data": {
            "text/plain": [
              "<Figure size 240x240 with 1 Axes>"
            ],
            "image/png": "[encoded data removed]"
          },
          "metadata": {}
        }
      ]
    },
    {
      "cell_type": "markdown",
      "source": [
        "# Step 2: Add one more plot\n",
        "\n",
        "<img src=\"https://raw.githubusercontent.com/Marsilea-viz/marsilea-workshop/main/asset/API-Add-Plotter.png\" width=\"500px\">"
      ],
      "metadata": {
        "id": "jka7jtWWj-IL"
      }
    },
    {
      "cell_type": "code",
      "source": [],
      "metadata": {
        "id": "LYvQ6XgAiYkp"
      },
      "execution_count": null,
      "outputs": []
    }
  ]
}