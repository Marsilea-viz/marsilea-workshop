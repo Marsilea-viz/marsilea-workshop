{
 "cells": [
  {
   "cell_type": "markdown",
   "id": "102ac002-a90f-4b51-aa91-f71d46983bcf",
   "metadata": {},
   "source": [
    "<a href=\"https://colab.research.google.com/github/Marsilea-viz/marsilea-workshop/blob/main/Marsilea-trackplot.ipynb\" target=\"_parent\"><img src=\"https://colab.research.google.com/assets/colab-badge.svg\" alt=\"Open In Colab\"/>"
   ]
  },
  {
   "cell_type": "code",
   "execution_count": null,
   "id": "53198404-e6fc-4128-ad6a-f223242be145",
   "metadata": {},
   "outputs": [],
   "source": [
    "!pip install marsilea"
   ]
  },
  {
   "cell_type": "markdown",
   "id": "22b749ad-84e2-47aa-b387-613a19304d07",
   "metadata": {},
   "source": [
    "# Task 2: Visualize ATAC-seq data with track plot\n",
    "\n",
    "The final visualization should look like:\n",
    "\n",
    "<img src=\"https://raw.githubusercontent.com/Marsilea-viz/marsilea-workshop/main/asset/example-track.png\" width=\"500px\">"
   ]
  },
  {
   "cell_type": "markdown",
   "id": "daed29fa-d15b-4364-bb32-73ec911fd480",
   "metadata": {},
   "source": [
    "# Import essential pacakges and load data"
   ]
  },
  {
   "cell_type": "code",
   "execution_count": null,
   "id": "69410bf1-cacd-4cc3-b192-34f0e2251135",
   "metadata": {},
   "outputs": [],
   "source": [
    "%config InlineBackend.figure_format = 'retina'\n",
    "from sklearn.preprocessing import normalize\n",
    "from matplotlib.colors import Normalize\n",
    "import matplotlib.pyplot as plt\n",
    "\n",
    "import marsilea as ma\n",
    "import marsilea.plotter as mp\n",
    "import mpl_fontkit as fk\n",
    "fk.install(\"Lato\", verbose=False)\n",
    "\n",
    "tracks = ma.load_data(\"track\")"
   ]
  },
  {
   "cell_type": "code",
   "execution_count": null,
   "id": "a0d4595e-f7db-4203-8e9d-aaa8cc052b01",
   "metadata": {},
   "outputs": [],
   "source": [
    "tracks"
   ]
  },
  {
   "cell_type": "markdown",
   "id": "58ca6556-d27d-4fa6-a964-7d40c727fd61",
   "metadata": {},
   "source": [
    "Let's define some variables to use later"
   ]
  },
  {
   "cell_type": "code",
   "execution_count": null,
   "id": "be479066-cc22-4bcb-b0c0-ca0ba51be002",
   "metadata": {},
   "outputs": [],
   "source": [
    "colors = {\n",
    "    \"H3K9me1\": \"#DD6E42\",\n",
    "    \"H3K9me2\": \"#E8DAB2\",\n",
    "    \"H3K9me3\": \"#4F6D7A\",\n",
    "    \"Background\": \"#C0D6DF\",\n",
    "}\n",
    "\n",
    "lims = {\n",
    "    \"H3K9me1\": 20,\n",
    "    \"H3K9me2\": 35,\n",
    "    \"H3K9me3\": 35,\n",
    "    \"Background\": 20,\n",
    "}\n",
    "\n",
    "TRACK_HEIGHT = 0.5\n",
    "TRACK_PAD = 0.1"
   ]
  },
  {
   "cell_type": "markdown",
   "id": "000ffc4f-11f5-4a34-a526-4d693654d4b9",
   "metadata": {},
   "source": [
    "Since we have 8 tracks, we can draw then by itering through the table.\n",
    "\n",
    "We create a special empty canvas called `ZeroHeight`, it's invisible but you can add plots upon it. "
   ]
  },
  {
   "cell_type": "code",
   "execution_count": null,
   "id": "fb03e1e9-ea6f-408d-ab13-c0f5e157ba36",
   "metadata": {},
   "outputs": [],
   "source": [
    "canvas = ma.ZeroHeight(5, name=\"track\")\n",
    "\n",
    "for _, row in tracks.iterrows():\n",
    "    cond, enz, track = row\n",
    "    name = f\"{cond}{enz}\"\n",
    "    color = colors[enz]\n",
    "    canvas.add_bottom(\n",
    "        mp.Area(track, color=color, add_outline=False, alpha=1, \n",
    "                label=cond, label_loc=\"right\"),\n",
    "        size=TRACK_HEIGHT,\n",
    "        pad=TRACK_PAD,\n",
    "        name=name,\n",
    "    )\n",
    "canvas.render()"
   ]
  },
  {
   "cell_type": "markdown",
   "id": "0e7f3785-6588-45d1-bdb5-e414cbc189d1",
   "metadata": {},
   "source": [
    "To add experiment labels on the right, we can do a little trick by creating a new canvas and concatenate them later."
   ]
  },
  {
   "cell_type": "code",
   "execution_count": null,
   "id": "3f6cb966-1e58-4c63-b6e4-d8a40e700d39",
   "metadata": {},
   "outputs": [],
   "source": [
    "enz_canvas = ma.ZeroHeight(1, name=\"enz\")\n",
    "for enz in tracks[\"enz\"].drop_duplicates():\n",
    "    enz_canvas.add_bottom(\n",
    "        mp.Title(f\"‎ ‎ {enz}\", align=\"left\"),\n",
    "        size=TRACK_HEIGHT * 2,\n",
    "        pad=TRACK_PAD * 2,\n",
    "        name=enz,\n",
    "    )\n",
    "\n",
    "enz_canvas.render()"
   ]
  },
  {
   "cell_type": "markdown",
   "id": "483ca1eb-3fd7-4687-8cd9-7150725c64a9",
   "metadata": {},
   "source": [
    "Now let's put the two canvas together, we can also add some space between plots to display the labels"
   ]
  },
  {
   "cell_type": "code",
   "execution_count": null,
   "id": "9ce2a05f-5f09-43ce-aeda-ef466745f7c9",
   "metadata": {},
   "outputs": [],
   "source": [
    "comp = canvas + 0.8 +  enz_canvas\n",
    "comp.render()"
   ]
  },
  {
   "cell_type": "markdown",
   "id": "1a2cd38f-192d-4f6d-8c1e-90bcdb53d7f7",
   "metadata": {},
   "source": [
    "However, we need to adjust the axis and add the blacklines, this is not available through marsilea. No worry! You can always retrive the `Axes` object to make customizations as you want. Just remember to assign a name to the canvas you want to retrieve."
   ]
  },
  {
   "cell_type": "code",
   "execution_count": null,
   "id": "bf2ae9fb-def9-4a7f-8e52-ad562ff36719",
   "metadata": {},
   "outputs": [],
   "source": [
    "comp = canvas + 0.8 +  enz_canvas\n",
    "comp.render()\n",
    "\n",
    "# Add a line for enz\n",
    "for enz in tracks[\"enz\"].drop_duplicates():\n",
    "    ax = comp.get_ax(\"enz\", enz)\n",
    "    ax.axvline(x=0, color=\"k\", lw=4)\n",
    "\n",
    "# Modify the limits\n",
    "for _, row in tracks.iterrows():\n",
    "    name = f\"{row['cond']}{row['enz']}\"\n",
    "    lim = lims[row[\"enz\"]]\n",
    "    ax = comp.get_ax(\"track\", name)\n",
    "    ax.set_ylim(0, lim)\n",
    "    ax.set_yticks([lim])"
   ]
  }
 ],
 "metadata": {
  "kernelspec": {
   "display_name": "Python 3 (ipykernel)",
   "language": "python",
   "name": "python3"
  },
  "language_info": {
   "codemirror_mode": {
    "name": "ipython",
    "version": 3
   },
   "file_extension": ".py",
   "mimetype": "text/x-python",
   "name": "python",
   "nbconvert_exporter": "python",
   "pygments_lexer": "ipython3",
   "version": "3.10.0"
  }
 },
 "nbformat": 4,
 "nbformat_minor": 5
}
