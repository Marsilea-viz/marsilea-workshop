{
 "cells": [
  {
   "cell_type": "markdown",
   "id": "04e1bb0a-86de-4ec3-8cbf-89c6bac2e960",
   "metadata": {},
   "source": [
    "<a href=\"https://colab.research.google.com/github/Marsilea-viz/marsilea-workshop/blob/main/Marsilea-dotplot.ipynb\" target=\"_parent\"><img src=\"https://colab.research.google.com/assets/colab-badge.svg\" alt=\"Open In Colab\"/></a>"
   ]
  },
  {
   "cell_type": "code",
   "execution_count": null,
   "id": "9b3f6345-a088-46e0-bb12-34b57ed4fc4c",
   "metadata": {},
   "outputs": [],
   "source": [
    "!pip install marsilea mpl_fontkit"
   ]
  },
  {
   "cell_type": "markdown",
   "id": "e658fafe-2413-48c9-b9be-134b8ab864a3",
   "metadata": {},
   "source": [
    "# Track 3: Visualize cell-cell communications in ktplot style"
   ]
  },
  {
   "cell_type": "code",
   "execution_count": null,
   "id": "282c1d2a-967a-4b54-a5c2-04e7e5fd4d3a",
   "metadata": {},
   "outputs": [],
   "source": [
    "%config InlineBackend.figure_format = 'retina'\n",
    "import numpy as np\n",
    "\n",
    "import marsilea as ma\n",
    "import marsilea.plotter as mp\n",
    "import mpl_fontkit as fk\n",
    "import numpy as np\n",
    "\n",
    "fk.install(\"Lato\", verbose=False)\n",
    "size = np.random.uniform(0, 1, (10, 10))\n",
    "color = np.random.uniform(0, 1, (10, 10))\n",
    "sign = (color > 0.8) & (size > 0.7)"
   ]
  },
  {
   "cell_type": "markdown",
   "id": "18d9eccd-9930-4bab-8bef-8d49e8bfba8b",
   "metadata": {},
   "source": [
    "We can use `SizedHeatmap` to start the canvas. Here you also learn how to adjust the looking and layout of legends."
   ]
  },
  {
   "cell_type": "code",
   "execution_count": null,
   "id": "379e0bec-ceef-4dc0-b468-6a27d80cb6fe",
   "metadata": {},
   "outputs": [],
   "source": [
    "h = ma.SizedHeatmap(\n",
    "    size,\n",
    "    color,\n",
    "    cmap=\"viridis\",\n",
    "    grid=True,\n",
    "    size_legend_kws=dict(\n",
    "        title=\"Interactions\", labels=[1, 0.75, 0.5, 0.25], show_at=[1, 0.75, 0.5, 0.25]\n",
    "    ),\n",
    "    color_legend_kws=dict(width=1, height=10, title=\"Interactions\"),\n",
    ")\n",
    "h.add_layer(\n",
    "    mp.MarkerMesh(sign, marker=\".\", label=\"Significant\", color=\"r\", size=1400),\n",
    "    zorder=-1,\n",
    ")\n",
    "h.add_right(mp.Labels([f\"Pathway {i+1}\" for i in range(10)]), pad=0.1)\n",
    "h.add_bottom(mp.Labels([f\"Cell-Cell{i+1}\" for i in range(10)]), pad=0.1)\n",
    "h.add_legends(stack_by=\"row\", stack_size=2, align_legends=\"top\")\n",
    "h.render()"
   ]
  },
  {
   "cell_type": "code",
   "execution_count": null,
   "id": "ba2f8ea6-88bc-418a-adf5-6659abae7b45",
   "metadata": {},
   "outputs": [],
   "source": []
  }
 ],
 "metadata": {
  "kernelspec": {
   "display_name": "Python 3 (ipykernel)",
   "language": "python",
   "name": "python3"
  },
  "language_info": {
   "codemirror_mode": {
    "name": "ipython",
    "version": 3
   },
   "file_extension": ".py",
   "mimetype": "text/x-python",
   "name": "python",
   "nbconvert_exporter": "python",
   "pygments_lexer": "ipython3",
   "version": "3.10.0"
  }
 },
 "nbformat": 4,
 "nbformat_minor": 5
}
